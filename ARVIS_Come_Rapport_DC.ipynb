{
 "cells": [
  {
   "cell_type": "markdown",
   "metadata": {},
   "source": [
    "## Drug spectra Data Camp : clasification and regression tasks ##"
   ]
  },
  {
   "cell_type": "code",
   "execution_count": 1,
   "metadata": {
    "collapsed": true
   },
   "outputs": [],
   "source": [
    "%matplotlib inline\n",
    "import os\n",
    "import numpy as np\n",
    "import matplotlib.pyplot as plt\n",
    "import pandas as pd\n",
    "import scipy as sc\n",
    "\n",
    "from sklearn.model_selection import ShuffleSplit\n",
    "from sklearn.metrics import accuracy_score"
   ]
  },
  {
   "cell_type": "code",
   "execution_count": 2,
   "metadata": {
    "collapsed": false
   },
   "outputs": [],
   "source": [
    "train_filename = 'train.csv'\n",
    "target_column_name_clf = 'molecule'\n",
    "target_column_name_reg = 'concentration'\n",
    "\n",
    "labels = np.array(['A', 'B', 'Q', 'R'])\n",
    "\n",
    "def read_data(filename):\n",
    "    df = pd.read_csv(filename)\n",
    "    y_df = df[[target_column_name_clf, target_column_name_reg]]\n",
    "    X_df = df.drop([target_column_name_clf, target_column_name_reg], axis=1)\n",
    "    spectra = X_df['spectra'].values\n",
    "    spectra = np.array(\n",
    "        [np.array(dd[1:-1].split(',')).astype(float) for dd in spectra])\n",
    "    X_df['spectra'] = spectra.tolist()\n",
    "    return X_df, y_df"
   ]
  },
  {
   "cell_type": "code",
   "execution_count": 3,
   "metadata": {
    "collapsed": false
   },
   "outputs": [],
   "source": [
    "X_df, y_df = read_data(train_filename)\n",
    "\n",
    "skf = ShuffleSplit(n_splits=1, test_size=0.2, random_state=57)\n",
    "\n",
    "for train_is, test_is in skf.split(y_df):\n",
    "    X_train_df = X_df.iloc[train_is].copy()\n",
    "    y_train_df = y_df.iloc[train_is].copy()\n",
    "    X_test_df = X_df.iloc[test_is].copy()\n",
    "    y_test_df = y_df.iloc[test_is].copy()"
   ]
  },
  {
   "cell_type": "code",
   "execution_count": 4,
   "metadata": {
    "collapsed": false
   },
   "outputs": [],
   "source": [
    "y_train_clf = y_train_df['molecule'].values\n",
    "y_test_clf = y_test_df['molecule'].values"
   ]
  },
  {
   "cell_type": "code",
   "execution_count": 5,
   "metadata": {
    "collapsed": true
   },
   "outputs": [],
   "source": [
    "from sklearn.ensemble import RandomForestClassifier\n",
    "from sklearn.decomposition import PCA, KernelPCA, IncrementalPCA\n",
    "from sklearn.pipeline import Pipeline\n",
    "from sklearn.base import BaseEstimator\n",
    "from sklearn.svm import SVC \n",
    "from sklearn.model_selection import GridSearchCV\n",
    "\n",
    "class Classifier(BaseEstimator):\n",
    "    def __init__(self):\n",
    "        \n",
    "        self.n_components = 10 # Arack as eigen_solver then, because n_components much smaller than number_samples\n",
    "        self.n_estimators = 300\n",
    "\n",
    "    def fit(self, X, y, C):\n",
    "        self.clf = Pipeline([\n",
    "            ('kpca', KernelPCA(n_components=self.n_components, fit_inverse_transform=True, eigen_solver='arpack')),\n",
    "            ('svc', SVC(C, probability=True))\n",
    "        ])\n",
    "        self.clf.fit(X, y)\n",
    "\n",
    "    def predict(self, X):\n",
    "        return self.clf.predict(X)\n",
    "\n",
    "    def predict_proba(self, X, surestimate):\n",
    "        prediction = self.clf.predict_proba(X)\n",
    "        prediction[:,1] *= surestimate # Error on B predominant over the rest\n",
    "        return prediction"
   ]
  },
  {
   "cell_type": "markdown",
   "metadata": {},
   "source": [
    "The KPCA is useful in our case to project the data in a space that make possible to separate them linearly.\n",
    "The idea here is to drastically decrease the number of components for the KPCA.\n",
    "It can be explained by the fact that we are keeping only fiew intensities from each spectra : the ones with the hightest variance.\n",
    "Furthermore, we use arpack as eigensolver because the compononents number is much smaller than the number of samples"
   ]
  },
  {
   "cell_type": "markdown",
   "metadata": {},
   "source": [
    "A chose the SVC over the random forest classifier by testing, and set the probability mode to true."
   ]
  },
  {
   "cell_type": "code",
   "execution_count": 6,
   "metadata": {
    "collapsed": false
   },
   "outputs": [
    {
     "name": "stdout",
     "output_type": "stream",
     "text": [
      "error = 0.015\n"
     ]
    },
    {
     "data": {
      "image/png": "[encoded data removed]",
      "text/plain": [
       "<matplotlib.figure.Figure at 0x165828fdeb8>"
      ]
     },
     "metadata": {},
     "output_type": "display_data"
    }
   ],
   "source": [
    "X_train_array_clf = np.array([np.array(dd) for dd in X_train_df['spectra']])\n",
    "X_test_array_clf = np.array([np.array(dd) for dd in X_test_df['spectra']])\n",
    "\n",
    "\"\"\"fe_clf = feature_extractor_clf.FeatureExtractorClf()\n",
    "X_train_array_clf = fe_clf.transform(X_train_df)\n",
    "X_test_array_clf = fe_clf.transform(X_test_df)\"\"\"\n",
    "\n",
    "clf = Classifier()\n",
    "plt.rcParams['figure.figsize'] = (12.0, 10.0)\n",
    "for i in range(4):\n",
    "    plt.subplot(2, 2, i+1)\n",
    "    clf.fit(X_train_array_clf, y_train_clf, C=10 ** (i+4))\n",
    "    y_proba_clf = clf.predict_proba(X_test_array_clf, 1.42)\n",
    "    y_pred_clf = labels[np.argmax(y_proba_clf, axis=1)]\n",
    "    plt.scatter(np.arange(len(y_pred_clf)), y_pred_clf==y_test_clf)\n",
    "    plt.title('Predictions for SVC with C = 1e%d : error = %.2f' % (int(i+3), 1 - accuracy_score(y_test_clf, y_pred_clf)), fontsize = 12)\n",
    "\n",
    "error = 1 - accuracy_score(y_test_clf, y_pred_clf)\n",
    "print('error = %s' % error)"
   ]
  },
  {
   "cell_type": "markdown",
   "metadata": {},
   "source": [
    "We note here that a huge value of C as penalization for the support vector algorithm decreases the errors.\n",
    "Furthermore, we observe there are not located at a specific area.\n",
    "I will try to determine which errors are predominant."
   ]
  },
  {
   "cell_type": "code",
   "execution_count": 7,
   "metadata": {
    "collapsed": false
   },
   "outputs": [
    {
     "name": "stdout",
     "output_type": "stream",
     "text": [
      "Prediction: A\tTrue label: B\n",
      "Prediction: A\tTrue label: B\n",
      "Prediction: A\tTrue label: B\n"
     ]
    }
   ],
   "source": [
    "for i in range(len(y_test_clf)):\n",
    "    if y_test_clf[i] != y_pred_clf[i]:\n",
    "        print(\"Prediction: \" + y_test_clf[i] + \"\\tTrue label: \" + y_pred_clf[i])"
   ]
  },
  {
   "cell_type": "markdown",
   "metadata": {},
   "source": [
    "Let's note here that many errors are based on the molecule B, the next idea is to surestimate the probability associated to B:"
   ]
  },
  {
   "cell_type": "code",
   "execution_count": 8,
   "metadata": {
    "collapsed": false
   },
   "outputs": [
    {
     "name": "stdout",
     "output_type": "stream",
     "text": [
      "Error without surestimation =  0.043\n",
      "Error with surestimation =  0.0385\n"
     ]
    }
   ],
   "source": [
    "skf = ShuffleSplit(n_splits=10, test_size=0.2, random_state=57)\n",
    "compt = 0\n",
    "errorsum1 = 0\n",
    "errorsum2 = 0\n",
    "\n",
    "for train_is, test_is in skf.split(y_df):\n",
    "    compt += 1\n",
    "    X_train_df = X_df.iloc[train_is].copy()\n",
    "    y_train_df = y_df.iloc[train_is].copy()\n",
    "    X_test_df = X_df.iloc[test_is].copy()\n",
    "    y_test_df = y_df.iloc[test_is].copy()\n",
    "    \n",
    "    y_train_clf = y_train_df['molecule'].values\n",
    "    y_test_clf = y_test_df['molecule'].values\n",
    "    \n",
    "    X_train_array_clf = np.array([np.array(dd) for dd in X_train_df['spectra']])\n",
    "    X_test_array_clf = np.array([np.array(dd) for dd in X_test_df['spectra']])\n",
    "\n",
    "    for i in range(2):\n",
    "        clf.fit(X_train_array_clf, y_train_clf, C=10 ** 5)\n",
    "        if i==0:\n",
    "            y_proba_clf = clf.predict_proba(X_test_array_clf, 1)\n",
    "        else:\n",
    "            y_proba_clf = clf.predict_proba(X_test_array_clf, 1.42)\n",
    "        y_pred_clf = labels[np.argmax(y_proba_clf, axis=1)]\n",
    "        if i == 0:\n",
    "            error1 = 1 - accuracy_score(y_test_clf, y_pred_clf)\n",
    "            errorsum1 += error1\n",
    "        else:\n",
    "            error2 = 1 - accuracy_score(y_test_clf, y_pred_clf)\n",
    "            errorsum2 += error2\n",
    "        \n",
    "print('Error without surestimation = ', errorsum1/compt)\n",
    "print('Error with surestimation = ', errorsum2/compt)"
   ]
  },
  {
   "cell_type": "markdown",
   "metadata": {},
   "source": [
    "We see here that, as a average score for 10 splits on the model validation, the error is smaller when we surestimate the probabilities for B."
   ]
  },
  {
   "cell_type": "markdown",
   "metadata": {
    "collapsed": true
   },
   "source": [
    "**Regression**\n",
    "\n",
    "I that the vial and solute features were pointless both for classification and for regression. This way I was able to eliminate these features from any later reasoning. "
   ]
  },
  {
   "cell_type": "code",
   "execution_count": 9,
   "metadata": {
    "collapsed": true
   },
   "outputs": [],
   "source": [
    "labels = np.array(['A', 'B', 'Q', 'R'])\n",
    "\n",
    "class FeatureExtractorReg():\n",
    "    def __init__(self):\n",
    "        pass\n",
    "\n",
    "    def fit(self, X_df, y):\n",
    "        pass\n",
    "\n",
    "    def transform(self, X_df):\n",
    "        XX = np.array([np.array(dd) for dd in X_df['spectra']])\n",
    "        \n",
    "        XX_max = np.max(XX, axis=1)\n",
    "        \n",
    "        XX -= np.mean(XX, axis=1)[:, None]\n",
    "        XX /= np.sqrt(np.sum(XX ** 2, axis=1))[:, None]\n",
    "        \n",
    "        XX = np.c_[XX, XX_max, X_df[labels].values]\n",
    "        \n",
    "        return XX\n"
   ]
  },
  {
   "cell_type": "code",
   "execution_count": 10,
   "metadata": {
    "collapsed": true
   },
   "outputs": [],
   "source": [
    "from sklearn.ensemble import GradientBoostingRegressor \n",
    "from sklearn.pipeline import Pipeline                                            \n",
    "from sklearn.base import BaseEstimator\n",
    "  \n",
    "concentration = {'A': [300, 400, 600, 800, 1000, 1400, 1600, 2000, 5000, 10000],\n",
    "                 'B': [500, 1000, 1500, 2000, 4000, 5000, 7000, 10000, 20000, 25000],\n",
    "                 'Q': [1000, 2000, 3000, 4000, 5000, 6000, 7000, 8000, 9000, 10000],\n",
    "                 'R': [400, 800, 1000, 1200, 1600, 2000, 3000, 4000, 5000, 10000]\n",
    "                }\n",
    "                                              \n",
    "class Regressor(BaseEstimator):                          \n",
    "    def __init__(self):                                                          \n",
    "        self.n_components = 9\n",
    "        self.n_estimators = 1500\n",
    "        self.learning_rate = 0.2                                            \n",
    "        self.list_molecule = ['A', 'B', 'Q', 'R']                      \n",
    "        self.dict_reg = {}                                                       \n",
    "        for mol in self.list_molecule:                                           \n",
    "            self.dict_reg[mol] = Pipeline([\n",
    "                ('kpca', KernelPCA(n_components=self.n_components, fit_inverse_transform=True, eigen_solver='arpack')),                \n",
    "                ('reg', GradientBoostingRegressor(loss='huber', learning_rate=0.02, n_estimators=self.n_estimators, subsample=0.35, random_state=42, alpha=0.95))\n",
    "            ])                                                                   \n",
    "                                                                                 \n",
    "    def fit(self, X, y):                                                         \n",
    "        for i, mol in enumerate(self.list_molecule):                             \n",
    "            ind_mol = np.where(np.argmax(X[:, -4:], axis=1) == i)[0]             \n",
    "            XX_mol = X[ind_mol]                                                  \n",
    "            y_mol = y[ind_mol].astype(float)                                \n",
    "            self.dict_reg[mol].fit(XX_mol, np.log(y_mol))                        \n",
    "                                                                                 \n",
    "    def predict(self, X):\n",
    "        y_pred = np.zeros(X.shape[0])                                            \n",
    "        for i, mol in enumerate(self.list_molecule):                             \n",
    "            ind_mol = np.where(np.argmax(X[:, -4:], axis=1) == i)[0]             \n",
    "            XX_mol = X[ind_mol].astype(float)                                    \n",
    "            y_pred[ind_mol] = np.exp(self.dict_reg[mol].predict(XX_mol))\n",
    "                        \n",
    "            vector_concentration = np.zeros(y_pred[ind_mol].shape) \n",
    "            for j, predict_conc in enumerate(y_pred[ind_mol]):\n",
    "                indice = np.argmin(np.abs(np.ones(len(concentration[mol]))*predict_conc - np.asarray(concentration[mol])))\n",
    "                vector_concentration[j] = concentration[mol][indice]\n",
    "\n",
    "            y_pred[ind_mol] = vector_concentration\n",
    "            \n",
    "        return y_pred"
   ]
  },
  {
   "cell_type": "code",
   "execution_count": 11,
   "metadata": {
    "collapsed": false
   },
   "outputs": [
    {
     "name": "stdout",
     "output_type": "stream",
     "text": [
      "Reading file ...\n",
      "Training file ...\n",
      "--------------------------\n",
      "mare =  0.0857142857143\n",
      "--------------------------\n",
      "mare =  0.0861964285714\n",
      "--------------------------\n",
      "mare =  0.085005952381\n",
      "--------------------------\n",
      "mare =  0.107148809524\n",
      "--------------------------\n",
      "mare =  0.113266666667\n",
      "--------------------------\n",
      "mare =  0.107392857143\n",
      "--------------------------\n",
      "mare =  0.139642857143\n",
      "--------------------------\n",
      "mare =  0.0848154761905\n",
      "--------------------------\n",
      "mare =  0.0864722222222\n",
      "--------------------------\n",
      "mare =  0.101345238095\n",
      "--------------------------\n",
      "mean mare =  0.0997000793651\n"
     ]
    }
   ],
   "source": [
    "from sklearn.model_selection import ShuffleSplit\n",
    "from sklearn.metrics import accuracy_score\n",
    "\n",
    "np.set_printoptions(threshold=np.nan)\n",
    "train_filename = 'train.csv'\n",
    "target_column_name_clf = 'molecule'\n",
    "target_column_name_reg = 'concentration'\n",
    "\n",
    "labels = np.array(['A', 'B', 'Q', 'R'])\n",
    "\n",
    "\n",
    "def mare_score(y_true, y_pred):       \n",
    "    return np.mean(np.abs((y_true - y_pred) / y_true))\n",
    "\n",
    "\n",
    "def read_data(filename):\n",
    "    df = pd.read_csv(filename)\n",
    "    y_df = df[[target_column_name_clf, target_column_name_reg]]\n",
    "    X_df = df.drop([target_column_name_clf, target_column_name_reg], axis=1)\n",
    "    spectra = X_df['spectra'].values\n",
    "    spectra = np.array(\n",
    "        [np.array(dd[1:-1].split(',')).astype(float) for dd in spectra])\n",
    "    X_df['spectra'] = spectra.tolist()\n",
    "    return X_df, y_df\n",
    "\n",
    "if __name__ == '__main__':\n",
    "    maremoy = 0\n",
    "    cpt = 0\n",
    "    print(\"Reading file ...\")\n",
    "    X_df, y_df = read_data(train_filename)\n",
    "    skf = ShuffleSplit(n_splits=10, test_size=0.2, random_state=57)\n",
    "    print(\"Training file ...\")\n",
    "    for train_is, test_is in skf.split(y_df):\n",
    "        print('--------------------------')\n",
    "        X_train_df = X_df.iloc[train_is].copy()\n",
    "        y_train_df = y_df.iloc[train_is].copy()\n",
    "        X_test_df = X_df.iloc[test_is].copy()\n",
    "        y_test_df = y_df.iloc[test_is].copy()\n",
    "        y_train_clf = y_train_df['molecule'].values\n",
    "        y_train_reg = y_train_df['concentration'].values\n",
    "        y_test_clf = y_test_df['molecule'].values\n",
    "        y_test_reg = y_test_df['concentration'].values\n",
    "        \n",
    "        X_train_array_clf = np.array([np.array(dd) for dd in X_train_df['spectra']])\n",
    "        X_test_array_clf = np.array([np.array(dd) for dd in X_test_df['spectra']])\n",
    "\n",
    "        clf = Classifier()\n",
    "        clf.fit(X_train_array_clf, y_train_clf,1e6)\n",
    "        y_proba_clf = clf.predict_proba(X_test_array_clf,1.42)\n",
    "        y_pred_clf = labels[np.argmax(y_proba_clf, axis=1)]\n",
    "        error = 1 - accuracy_score(y_test_clf, y_pred_clf)\n",
    "       \n",
    "        \n",
    "        fe_reg = FeatureExtractorReg()\n",
    "        for i, label in enumerate(labels):\n",
    "            X_train_df.loc[:, label] = (y_train_df['molecule'] == label)\n",
    "            X_test_df.loc[:, label] = y_proba_clf[:, i]\n",
    "        fe_reg.fit(X_train_df, y_train_reg)\n",
    "        X_train_array_reg = fe_reg.transform(X_train_df)\n",
    "        X_test_array_reg = fe_reg.transform(X_test_df)\n",
    "\n",
    "        reg = Regressor()\n",
    "        reg.fit(X_train_array_reg, y_train_reg)\n",
    "        y_pred_reg = reg.predict(X_test_array_reg)\n",
    "        mare = mare_score(y_test_reg, y_pred_reg)\n",
    "        print('mare = ', mare)\n",
    "        maremoy += mare\n",
    "        cpt += 1\n",
    "        \n",
    "print('--------------------------')    \n",
    "print('mean mare = ', maremoy/cpt)         "
   ]
  },
  {
   "cell_type": "markdown",
   "metadata": {},
   "source": [
    "We can see above the final mean error I got here for the regression for a split of 10 iterations, which is about 0.1"
   ]
  },
  {
   "cell_type": "markdown",
   "metadata": {},
   "source": [
    "I put below key points that allowed me to discrease my error for the regression.\n",
    "Code samples may be inappropriate, it's just for giving my ideas."
   ]
  },
  {
   "cell_type": "code",
   "execution_count": 14,
   "metadata": {
    "collapsed": false
   },
   "outputs": [],
   "source": [
    "# Key points leading to a minimisation of my error for the regression task:\n",
    "\n",
    "# 1st point : the first idea was to change for another model but it didn't perform better than the gradient boosting\n",
    "# I also tried to combine several models through a pipe and pick the average value predicted, but it didn't perform\n",
    "# better neither.\n",
    "# So I decided to optimize the parameters of the gradient boosting by performing a radom gridsearchCV\n",
    "# in order to converge to better parameters, and it was effective.\n",
    "\n",
    "model_old = GradientBoostingRegressor(\n",
    "                    n_estimators=30, learning_rate=0.1, random_state=42)\n",
    "\n",
    "model_new = GradientBoostingRegressor(\n",
    "                    loss='huber', learning_rate=0.02, n_estimators=1500, \n",
    "                    subsample=0.35, random_state=42, alpha=0.95)\n",
    "\n",
    "\n",
    "# 2nd point: I replaced the normalization by changing the median by the mean, which seemed more logical to me.\n",
    "# Indeed, a mean is more stable to identifiate a concentration according to the plots of the starting kit. \n",
    "# Thus, I think the distance to the mean is a better way to distinguish different concentrations than the median.\n",
    "\n",
    "# old version\n",
    "XX = [np.arange(1,10)] # just an example to make it compilable\n",
    "XX = XX - np.median(XX, axis=1)[:, None]\n",
    "# new version\n",
    "XX = XX - np.mean(XX, axis=1)[:, None]\n",
    "\n",
    "\n",
    "# 3rd point: Visualing the plots, I make the assumption that the maximum of the intensities could be useful as\n",
    "# new feature to distinguish different concentrations. Thus, I computed it and added it as a transformation.\n",
    "\n",
    "XX_max = np.max(XX, axis=1)\n",
    "## Adding this new feature to XX:\n",
    "XX = np.c_[XX, XX_max] # and concatenate the labels..\n",
    "\n",
    "\n",
    "# 4th point: According to the starting kit notebook, I saw there were only 10 different possible concentration \n",
    "# values for each molecule. So, I though I would minimize the error by keeping one on these values, the closest,\n",
    "# from my predicted concentrations. Doing that, I guarantee a error to 0 when my prediction is correct.For this \n",
    "# task I created a fixed and constant dictionary to keep in memory the possible concentration for each molecule. \n",
    "\n",
    "\n",
    "## Dictionary of concentrations per molecule\n",
    "concentration = {'A': [300, 400, 600, 800, 1000, 1400, 1600, 2000, 5000, 10000],\n",
    "                 'B': [500, 1000, 1500, 2000, 4000, 5000, 7000, 10000, 20000, 25000],\n",
    "                 'Q': [1000, 2000, 3000, 4000, 5000, 6000, 7000, 8000, 9000, 10000],\n",
    "                 'R': [400, 800, 1000, 1200, 1600, 2000, 3000, 4000, 5000, 10000]\n",
    "                }\n",
    "\n",
    "class DisplayKeyCode(BaseEstimator):\n",
    "    def __init__(self):\n",
    "        self.list_molecule = ['A', 'B', 'Q', 'R']\n",
    "        self.dict_reg2 = {}\n",
    "        self.learning_rate = 0 # just an example to make it compilable\n",
    "        self.n_estimators = 0\n",
    "        \n",
    "    def predict(self, X):\n",
    "            y_pred = np.zeros(X.shape[0])                                       \n",
    "            for i, mol in enumerate(self.list_molecule):                             \n",
    "                ind_mol = np.where(np.argmax(X[:, -4:], axis=1) == i)[0]             \n",
    "                XX_mol = X[ind_mol].astype(float)                                      \n",
    "                y_pred[ind_mol] = self.transformBackY(self.dict_reg2[mol].predict(XX_mol))\n",
    "            \n",
    "                ## code improvement:\n",
    "                vector_concentration = np.zeros(y_pred[ind_mol].shape) \n",
    "                for j, predict_conc in enumerate(y_pred[ind_mol]):\n",
    "                    indice = np.argmin(np.abs(np.ones(len(concentration[mol]))*predict_conc - np.asarray(concentration[mol])))\n",
    "                    vector_concentration[j] = concentration[mol][indice]\n",
    "                y_pred[ind_mol] = vector_concentration\n",
    "                ##\n",
    "            \n",
    "            return y_pred"
   ]
  }
 ],
 "metadata": {
  "anaconda-cloud": {},
  "kernelspec": {
   "display_name": "Python [Root]",
   "language": "python",
   "name": "Python [Root]"
  },
  "language_info": {
   "codemirror_mode": {
    "name": "ipython",
    "version": 3
   },
   "file_extension": ".py",
   "mimetype": "text/x-python",
   "name": "python",
   "nbconvert_exporter": "python",
   "pygments_lexer": "ipython3",
   "version": "3.5.2"
  }
 },
 "nbformat": 4,
 "nbformat_minor": 1
}
